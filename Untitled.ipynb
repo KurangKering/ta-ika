{
 "cells": [
  {
   "cell_type": "code",
   "execution_count": 5,
   "id": "2e468eab-d21c-406a-87a8-b0651ce3d383",
   "metadata": {},
   "outputs": [],
   "source": [
    "import numpy as np\n",
    "import matplotlib.pyplot as plt\n",
    "import skfuzzy as fuzz\n",
    "from numpy import unravel_index\n",
    "import itertools"
   ]
  },
  {
   "cell_type": "code",
   "execution_count": 6,
   "id": "2a2165a3-9af9-40f4-aa7f-e12cc321167c",
   "metadata": {},
   "outputs": [
    {
     "ename": "TypeError",
     "evalue": "only integer scalar arrays can be converted to a scalar index",
     "output_type": "error",
     "traceback": [
      "\u001b[1;31m---------------------------------------------------------------------------\u001b[0m",
      "\u001b[1;31mTypeError\u001b[0m                                 Traceback (most recent call last)",
      "\u001b[1;32m<ipython-input-6-1cccf221a420>\u001b[0m in \u001b[0;36m<module>\u001b[1;34m\u001b[0m\n\u001b[0;32m     11\u001b[0m         \u001b[0mmf_sangattua\u001b[0m \u001b[1;33m=\u001b[0m \u001b[0mfuzz\u001b[0m\u001b[1;33m.\u001b[0m\u001b[0mtrapmf\u001b[0m\u001b[1;33m(\u001b[0m\u001b[0m_replaced_x\u001b[0m\u001b[1;33m,\u001b[0m \u001b[1;33m[\u001b[0m\u001b[1;36m52\u001b[0m\u001b[1;33m,\u001b[0m \u001b[1;36m58\u001b[0m\u001b[1;33m,\u001b[0m \u001b[1;36m58\u001b[0m\u001b[1;33m,\u001b[0m \u001b[1;36m58\u001b[0m\u001b[1;33m]\u001b[0m\u001b[1;33m)\u001b[0m\u001b[1;33m\u001b[0m\u001b[1;33m\u001b[0m\u001b[0m\n\u001b[0;32m     12\u001b[0m \u001b[1;33m\u001b[0m\u001b[0m\n\u001b[1;32m---> 13\u001b[1;33m \u001b[0mMF_Age\u001b[0m\u001b[1;33m.\u001b[0m\u001b[0msingle_calculate\u001b[0m\u001b[1;33m(\u001b[0m\u001b[1;33m[\u001b[0m\u001b[1;36m1\u001b[0m\u001b[1;33m]\u001b[0m\u001b[1;33m)\u001b[0m\u001b[1;33m\u001b[0m\u001b[1;33m\u001b[0m\u001b[0m\n\u001b[0m\u001b[0;32m     14\u001b[0m \u001b[1;33m\u001b[0m\u001b[0m\n",
      "\u001b[1;32m<ipython-input-6-1cccf221a420>\u001b[0m in \u001b[0;36msingle_calculate\u001b[1;34m(x)\u001b[0m\n\u001b[0;32m      3\u001b[0m     \u001b[1;33m@\u001b[0m\u001b[0mstaticmethod\u001b[0m\u001b[1;33m\u001b[0m\u001b[1;33m\u001b[0m\u001b[0m\n\u001b[0;32m      4\u001b[0m     \u001b[1;32mdef\u001b[0m \u001b[0msingle_calculate\u001b[0m\u001b[1;33m(\u001b[0m\u001b[0mx\u001b[0m\u001b[1;33m)\u001b[0m\u001b[1;33m:\u001b[0m\u001b[1;33m\u001b[0m\u001b[1;33m\u001b[0m\u001b[0m\n\u001b[1;32m----> 5\u001b[1;33m         \u001b[0m_muda\u001b[0m \u001b[1;33m=\u001b[0m \u001b[0mfuzz\u001b[0m\u001b[1;33m.\u001b[0m\u001b[0mtrapmf\u001b[0m\u001b[1;33m(\u001b[0m\u001b[0mx\u001b[0m\u001b[1;33m,\u001b[0m \u001b[1;33m[\u001b[0m\u001b[1;36m0\u001b[0m\u001b[1;33m,\u001b[0m \u001b[1;36m0\u001b[0m\u001b[1;33m,\u001b[0m \u001b[1;36m33\u001b[0m\u001b[1;33m,\u001b[0m \u001b[1;36m38\u001b[0m\u001b[1;33m]\u001b[0m\u001b[1;33m)\u001b[0m\u001b[1;33m\u001b[0m\u001b[1;33m\u001b[0m\u001b[0m\n\u001b[0m\u001b[0;32m      6\u001b[0m         \u001b[0m_agak_tua\u001b[0m \u001b[1;33m=\u001b[0m \u001b[0mfuzz\u001b[0m\u001b[1;33m.\u001b[0m\u001b[0mtrapmf\u001b[0m\u001b[1;33m(\u001b[0m\u001b[0mx\u001b[0m\u001b[1;33m,\u001b[0m \u001b[1;33m[\u001b[0m\u001b[1;36m33\u001b[0m\u001b[1;33m,\u001b[0m \u001b[1;36m38\u001b[0m\u001b[1;33m,\u001b[0m \u001b[1;36m40\u001b[0m\u001b[1;33m,\u001b[0m \u001b[1;36m45\u001b[0m\u001b[1;33m]\u001b[0m\u001b[1;33m)\u001b[0m\u001b[1;33m\u001b[0m\u001b[1;33m\u001b[0m\u001b[0m\n\u001b[0;32m      7\u001b[0m         \u001b[0m_tua\u001b[0m \u001b[1;33m=\u001b[0m \u001b[0mfuzz\u001b[0m\u001b[1;33m.\u001b[0m\u001b[0mtrapmf\u001b[0m\u001b[1;33m(\u001b[0m\u001b[0mx\u001b[0m\u001b[1;33m,\u001b[0m \u001b[1;33m[\u001b[0m\u001b[1;36m40\u001b[0m\u001b[1;33m,\u001b[0m \u001b[1;36m45\u001b[0m\u001b[1;33m,\u001b[0m \u001b[1;36m52\u001b[0m\u001b[1;33m,\u001b[0m \u001b[1;36m58\u001b[0m\u001b[1;33m]\u001b[0m\u001b[1;33m)\u001b[0m\u001b[1;33m\u001b[0m\u001b[1;33m\u001b[0m\u001b[0m\n",
      "\u001b[1;32mc:\\users\\ya\\envs\\ta-ika\\lib\\site-packages\\skfuzzy\\membership\\generatemf.py\u001b[0m in \u001b[0;36mtrapmf\u001b[1;34m(x, abcd)\u001b[0m\n\u001b[0;32m    400\u001b[0m \u001b[1;33m\u001b[0m\u001b[0m\n\u001b[0;32m    401\u001b[0m     \u001b[0midx\u001b[0m \u001b[1;33m=\u001b[0m \u001b[0mnp\u001b[0m\u001b[1;33m.\u001b[0m\u001b[0mnonzero\u001b[0m\u001b[1;33m(\u001b[0m\u001b[0mx\u001b[0m \u001b[1;33m<=\u001b[0m \u001b[0mb\u001b[0m\u001b[1;33m)\u001b[0m\u001b[1;33m[\u001b[0m\u001b[1;36m0\u001b[0m\u001b[1;33m]\u001b[0m\u001b[1;33m\u001b[0m\u001b[1;33m\u001b[0m\u001b[0m\n\u001b[1;32m--> 402\u001b[1;33m     \u001b[0my\u001b[0m\u001b[1;33m[\u001b[0m\u001b[0midx\u001b[0m\u001b[1;33m]\u001b[0m \u001b[1;33m=\u001b[0m \u001b[0mtrimf\u001b[0m\u001b[1;33m(\u001b[0m\u001b[0mx\u001b[0m\u001b[1;33m[\u001b[0m\u001b[0midx\u001b[0m\u001b[1;33m]\u001b[0m\u001b[1;33m,\u001b[0m \u001b[0mnp\u001b[0m\u001b[1;33m.\u001b[0m\u001b[0mr_\u001b[0m\u001b[1;33m[\u001b[0m\u001b[0ma\u001b[0m\u001b[1;33m,\u001b[0m \u001b[0mb\u001b[0m\u001b[1;33m,\u001b[0m \u001b[0mb\u001b[0m\u001b[1;33m]\u001b[0m\u001b[1;33m)\u001b[0m\u001b[1;33m\u001b[0m\u001b[1;33m\u001b[0m\u001b[0m\n\u001b[0m\u001b[0;32m    403\u001b[0m \u001b[1;33m\u001b[0m\u001b[0m\n\u001b[0;32m    404\u001b[0m     \u001b[0midx\u001b[0m \u001b[1;33m=\u001b[0m \u001b[0mnp\u001b[0m\u001b[1;33m.\u001b[0m\u001b[0mnonzero\u001b[0m\u001b[1;33m(\u001b[0m\u001b[0mx\u001b[0m \u001b[1;33m>=\u001b[0m \u001b[0mc\u001b[0m\u001b[1;33m)\u001b[0m\u001b[1;33m[\u001b[0m\u001b[1;36m0\u001b[0m\u001b[1;33m]\u001b[0m\u001b[1;33m\u001b[0m\u001b[1;33m\u001b[0m\u001b[0m\n",
      "\u001b[1;31mTypeError\u001b[0m: only integer scalar arrays can be converted to a scalar index"
     ]
    }
   ],
   "source": []
  },
  {
   "cell_type": "code",
   "execution_count": 42,
   "id": "8658ea62-174b-4d7c-9749-832f9c126f58",
   "metadata": {},
   "outputs": [
    {
     "name": "stdout",
     "output_type": "stream",
     "text": [
      "[[1.         0.         0.         0.        ]\n",
      " [0.         0.         0.         1.        ]\n",
      " [0.6        0.33333333 0.         0.        ]]\n",
      "[[0], [3], [0, 1]]\n"
     ]
    }
   ],
   "source": [
    "\n",
    "def mf_age(x):\n",
    "    \n",
    "    mf_muda = fuzz.trapmf(x, [0, 0, 33, 38])\n",
    "    mf_paruhbaya = fuzz.trimf(x, [33, 39, 45])\n",
    "    mf_tua = fuzz.trimf(x, [40, 49, 58])\n",
    "    \n",
    "    x_tua = np.array(list(map(lambda y : y if y <= 58 else 58, x)))\n",
    "    \n",
    "    mf_sangattua = fuzz.trapmf(x_tua, [52, 58, 58, 58])\n",
    "    \n",
    "    array_merged = np.vstack((mf_muda, mf_paruhbaya, mf_tua, mf_sangattua))\n",
    "    transposed = array_merged.T\n",
    "    return transposed\n",
    "    \n",
    "a = np.array([1, 58, 35])\n",
    "\n",
    "hasil = mf_age(a)\n",
    "print(hasil)\n",
    "\n",
    "yai = [(np.where(x != 0)[0]).tolist() for x in hasil]\n",
    "\n",
    "print(yai)\n"
   ]
  },
  {
   "cell_type": "code",
   "execution_count": null,
   "id": "0cd97f60-80b4-4b37-b401-bdac8219de77",
   "metadata": {},
   "outputs": [],
   "source": [
    "def mf_trestbps(x):\n",
    "    mf_rendah = fuzz.trapmf(x, [0, 0, 127, 134])\n",
    "    mf_sedang = fuzz.trimf(x, [127, 140, 153])\n",
    "    mf_tinggi = fuzz.trimf(x, [142, 157, 172])\n",
    "    \n",
    "    x_sangattinggi = np.array(list(map(lambda y : y if y <= 172 else 172, x)))\n",
    "    \n",
    "    mf_sangattinggi = fuzz.trapmf(x_sangattinggi, [154, 172, 172, 172])\n",
    "    \n",
    "    array_merged = np.vstack((mf_rendah, mf_sedang, mf_tinggi, mf_sangattinggi))\n",
    "    transposed = array_merged.T\n",
    "    return transposed\n",
    "\n"
   ]
  },
  {
   "cell_type": "code",
   "execution_count": null,
   "id": "cc98fce3-df3f-4f97-999f-bbb5126d4da8",
   "metadata": {},
   "outputs": [],
   "source": [
    "def mf_chol(x):\n",
    "    mf_rendah = fuzz.trapmf(x, [0, 0, 188, 197])\n",
    "    mf_sedang = fuzz.trimf(x, [188, 219, 250])\n",
    "    mf_tinggi = fuzz.trimf(x, [217, 262, 307])\n",
    "    \n",
    "    x_sangattinggi = np.array(list(map(lambda y : y if y <= 307 else 307, x)))\n",
    "    \n",
    "    mf_sangattinggi = fuzz.trapmf(x_sangattinggi, [281, 307, 307, 307])\n",
    "    \n",
    "    array_merged = np.vstack((mf_rendah, mf_sedang, mf_tinggi, mf_sangattinggi))\n",
    "    transposed = array_merged.T\n",
    "    return transposed\n",
    "\n"
   ]
  },
  {
   "cell_type": "code",
   "execution_count": 11,
   "id": "41bf6c0d-1b42-4a1e-9665-bd05ec6207d2",
   "metadata": {},
   "outputs": [
    {
     "name": "stdout",
     "output_type": "stream",
     "text": [
      "(1, 3)\n"
     ]
    }
   ],
   "source": [
    "def mf_thalach(x):\n",
    "    mf_rendah = fuzz.trapmf(x, [0, 0, 111, 141])\n",
    "    mf_sedang = fuzz.trimf(x, [111, 153, 194])\n",
    "    \n",
    "    x_tinggi = np.array(list(map(lambda y : y if y <= 194 else 194, x)))\n",
    "    \n",
    "    mf_tinggi = fuzz.trapmf(x_tinggi, [152, 194, 194, 194])\n",
    "    \n",
    "    \n",
    "    array_merged = np.vstack((mf_rendah, mf_sedang, mf_tinggi))\n",
    "    transposed = array_merged.T\n",
    "    return transposed\n",
    "\n"
   ]
  },
  {
   "cell_type": "code",
   "execution_count": null,
   "id": "42b5e1bb-1925-4bd3-bcb1-51e2daeb7d69",
   "metadata": {},
   "outputs": [],
   "source": [
    "def mf_oldpeak(x):\n",
    "    mf_rendah = fuzz.trapmf(x, [0, 0, 1.5, 2])\n",
    "    mf_beresiko = fuzz.trimf(x, [1.5, 2.85, 4.2])\n",
    "    \n",
    "    x_buruk = np.array(list(map(lambda y : y if y <= 4.2 else 4.2, x)))\n",
    "    \n",
    "    mf_buruk = fuzz.trapmf(x_buruk, [2.55, 4.2, 4.2, 4.2])\n",
    "    \n",
    "    \n",
    "    array_merged = np.vstack((mf_rendah, mf_beresiko, mf_buruk))\n",
    "    transposed = array_merged.T\n",
    "    return transposed"
   ]
  },
  {
   "cell_type": "code",
   "execution_count": 99,
   "id": "c4899524-483d-4b9b-899b-e78d9fd728c6",
   "metadata": {},
   "outputs": [],
   "source": [
    "data = np.array(\n",
    "[[63, 145, 233, 150, 2.3],\n",
    "[37, 130, 250, 187, 3.5],\n",
    "[41, 130, 204, 172, 1.4],\n",
    "[56, 120, 236, 178, 0.8],\n",
    "[57, 120, 354, 163, 0.6],\n",
    "[57, 140, 192, 148, 0.4],\n",
    "[56, 140, 294, 153, 1.3],\n",
    "[44, 120, 263, 173, 0],\n",
    "[52, 172, 199, 162, 0.5],\n",
    "[57, 150, 168, 174, 1.6]])\n",
    "\n",
    "\n",
    "MF_age = mf_age(data[:,0])\n",
    "MF_trestbps = mf_trestbps(data[:,1])\n",
    "MF_chol = mf_chol(data[:,2])\n",
    "MF_thalach = mf_thalach(data[:,3])\n",
    "MF_oldpeak = mf_oldpeak(data[:,4])\n",
    "\n",
    "anggota_age = np.argmax(MF_age, axis=1)   \n",
    "anggota_trestbps = np.argmax(MF_trestbps, axis=1)\n",
    "anggota_chol = np.argmax(MF_chol, axis=1)\n",
    "anggota_thalach = np.argmax(MF_thalach, axis=1)\n",
    "anggota_oldpeak = np.argmax(MF_oldpeak, axis=1)"
   ]
  },
  {
   "cell_type": "code",
   "execution_count": 106,
   "id": "0066096e-4925-4a96-be27-8daa5a712ff7",
   "metadata": {},
   "outputs": [
    {
     "name": "stdout",
     "output_type": "stream",
     "text": [
      "[[3 1 1 1 1]\n",
      " [1 0 2 2 2]\n",
      " [1 0 1 1 0]\n",
      " [3 0 1 2 0]\n",
      " [3 0 3 1 0]\n",
      " [3 1 0 1 0]\n",
      " [3 1 3 1 0]\n",
      " [2 0 2 1 0]\n",
      " [2 3 1 1 0]\n",
      " [3 2 0 2 0]]\n"
     ]
    }
   ],
   "source": [
    "sepuluh_data = np.vstack((anggota_age, anggota_trestbps, anggota_chol, anggota_thalach,anggota_oldpeak)).T\n",
    "print(sepuluh_data)"
   ]
  },
  {
   "cell_type": "code",
   "execution_count": 113,
   "id": "d34796f5-48ec-4d2b-8496-3cad09b8633a",
   "metadata": {},
   "outputs": [
    {
     "data": {
      "text/plain": [
       "array([[0.33333333, 0.        , 0.        ]])"
      ]
     },
     "execution_count": 113,
     "metadata": {},
     "output_type": "execute_result"
    }
   ],
   "source": []
  }
 ],
 "metadata": {
  "kernelspec": {
   "display_name": "Python 3",
   "language": "python",
   "name": "python3"
  },
  "language_info": {
   "codemirror_mode": {
    "name": "ipython",
    "version": 3
   },
   "file_extension": ".py",
   "mimetype": "text/x-python",
   "name": "python",
   "nbconvert_exporter": "python",
   "pygments_lexer": "ipython3",
   "version": "3.8.7"
  }
 },
 "nbformat": 4,
 "nbformat_minor": 5
}
