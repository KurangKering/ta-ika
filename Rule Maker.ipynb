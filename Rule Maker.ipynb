{
 "cells": [
  {
   "cell_type": "code",
   "execution_count": 16,
   "id": "91591b83",
   "metadata": {},
   "outputs": [],
   "source": [
    "import itertools\n",
    "from openpyxl import Workbook"
   ]
  },
  {
   "cell_type": "code",
   "execution_count": 12,
   "id": "c75bc7de",
   "metadata": {},
   "outputs": [],
   "source": [
    "list_age = ['muda', 'agak tua', 'tua', 'sangat tua']\n",
    "list_trestbps = ['rendah', 'sedang', 'tinggi', 'sangat tinggi']\n",
    "list_chol = ['rendah', 'sedang', 'tinggi', 'sangat tinggi']\n",
    "list_thalach = ['rendah', 'sedang', 'tinggi']\n",
    "list_oldpeak = ['rendah', 'beresiko', 'buruk']\n",
    "list_sex = ['perempuan', 'laki-laki']\n",
    "list_cp = ['typical angina', 'atipical angina', 'non-anginal pain', 'asymtomatic']\n",
    "list_fbs = ['tinggi', 'rendah']\n",
    "list_restech = ['normal', 'ST-T abnormal', 'hiperteropi']\n",
    "list_exang = ['nyeri', 'tidak nyeri']\n",
    "list_slope = ['upsloping', 'flat', 'downsloping']\n",
    "list_ca = ['ca1', 'ca2', 'ca3', 'ca4']\n",
    "list_thal = ['normal', 'fixed defect', 'reversal defect']\n",
    "\n",
    "list_of_list = [['IF'], list_age, list_trestbps, list_chol, list_thalach, list_oldpeak, list_sex, list_cp, list_fbs, list_restech, list_exang, list_slope, list_ca, list_thal]"
   ]
  },
  {
   "cell_type": "code",
   "execution_count": 21,
   "id": "5dc41f21",
   "metadata": {},
   "outputs": [],
   "source": [
    "data = (itertools.product(*list_of_list))"
   ]
  },
  {
   "cell_type": "code",
   "execution_count": 1,
   "id": "86230ecc",
   "metadata": {},
   "outputs": [
    {
     "ename": "NameError",
     "evalue": "name 'Workbook' is not defined",
     "output_type": "error",
     "traceback": [
      "\u001b[1;31m---------------------------------------------------------------------------\u001b[0m",
      "\u001b[1;31mNameError\u001b[0m                                 Traceback (most recent call last)",
      "\u001b[1;32m<ipython-input-1-cbf771140ea4>\u001b[0m in \u001b[0;36m<module>\u001b[1;34m\u001b[0m\n\u001b[1;32m----> 1\u001b[1;33m \u001b[0mwb\u001b[0m \u001b[1;33m=\u001b[0m \u001b[0mWorkbook\u001b[0m\u001b[1;33m(\u001b[0m\u001b[1;33m)\u001b[0m\u001b[1;33m\u001b[0m\u001b[1;33m\u001b[0m\u001b[0m\n\u001b[0m\u001b[0;32m      2\u001b[0m \u001b[0mwb\u001b[0m\u001b[1;33m.\u001b[0m\u001b[0mnew_sheet\u001b[0m\u001b[1;33m(\u001b[0m\u001b[1;34m\"sheet name\"\u001b[0m\u001b[1;33m,\u001b[0m \u001b[0mdata\u001b[0m\u001b[1;33m=\u001b[0m\u001b[0mdata\u001b[0m\u001b[1;33m)\u001b[0m\u001b[1;33m\u001b[0m\u001b[1;33m\u001b[0m\u001b[0m\n\u001b[0;32m      3\u001b[0m \u001b[0mwb\u001b[0m\u001b[1;33m.\u001b[0m\u001b[0msave\u001b[0m\u001b[1;33m(\u001b[0m\u001b[1;34m\"output.xlsx\"\u001b[0m\u001b[1;33m)\u001b[0m\u001b[1;33m\u001b[0m\u001b[1;33m\u001b[0m\u001b[0m\n",
      "\u001b[1;31mNameError\u001b[0m: name 'Workbook' is not defined"
     ]
    }
   ],
   "source": [
    "wb = Workbook()\n",
    "wb.new_sheet(\"sheet name\", data=data)\n",
    "wb.save(\"output.xlsx\")"
   ]
  },
  {
   "cell_type": "code",
   "execution_count": null,
   "id": "cdbb1bb3",
   "metadata": {},
   "outputs": [],
   "source": [
    "wb.save('rules ika.xlsx')"
   ]
  }
 ],
 "metadata": {
  "kernelspec": {
   "display_name": "Python 3",
   "language": "python",
   "name": "python3"
  },
  "language_info": {
   "codemirror_mode": {
    "name": "ipython",
    "version": 3
   },
   "file_extension": ".py",
   "mimetype": "text/x-python",
   "name": "python",
   "nbconvert_exporter": "python",
   "pygments_lexer": "ipython3",
   "version": "3.8.7"
  }
 },
 "nbformat": 4,
 "nbformat_minor": 5
}
